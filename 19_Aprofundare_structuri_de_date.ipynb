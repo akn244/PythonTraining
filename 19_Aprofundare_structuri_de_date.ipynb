{
 "cells": [
  {
   "cell_type": "code",
   "execution_count": 1,
   "metadata": {},
   "outputs": [],
   "source": [
    "examinare = {\n",
    "    \"nnume\": \"Ion\",\n",
    "    \"note\": {\n",
    "        \"programare\": 10,\n",
    "        \"algoritmi\": 9,\n",
    "        \"structuri date\": 10\n",
    "    },\n",
    "    \"tari vizitate\": [\"ro\", \"gb\", \"de\", \"fr\"],\n",
    "    \"materii\": [\n",
    "        {\n",
    "            \"denumire\": \"algoritmi\",\n",
    "            \"profesor\": {\n",
    "                \"nume\": \"Al-Khwarizmi\",\n",
    "                \"tara\": \"uz\"\n",
    "            },\n",
    "            \"notiuni\": [\"cautare\", \"optimizare\", \"big O\"]\n",
    "        },\n",
    "        {\n",
    "            \"denumire\": \"programare\",\n",
    "            \"profesor\": {\n",
    "                \"nume\": \"Guido van Rossum\",\n",
    "                \"tara\": \"nl\"\n",
    "            },\n",
    "            \"notiuni\": [\"kiss\", \"dry\"]  \n",
    "        },\n",
    "        {\n",
    "            \"denumire\": \"structuri date\",\n",
    "            \"profesor\": {\n",
    "                \"nume\": \"Turing\",\n",
    "                \"tara\": \"gb\"\n",
    "            },\n",
    "            \"notiuni\": [\"lista\", \"dicitonar\", \"set\", \"tuplu\"]\n",
    "        }\n",
    "    ]\n",
    "}"
   ]
  },
  {
   "cell_type": "code",
   "execution_count": 6,
   "metadata": {},
   "outputs": [
    {
     "name": "stdout",
     "output_type": "stream",
     "text": [
      "Mai putin decat 10 la: algoritmi\n",
      "Cu profesorul: Al-Khwarizmi\n",
      "A vizitat tara profesorului: False\n"
     ]
    }
   ],
   "source": [
    "for materie, nota in examinare[\"note\"].items():\n",
    "    if nota < 10:\n",
    "        vizitat = False\n",
    "        for detalii_materie in examinare[\"materii\"]:\n",
    "            if materie == detalii_materie[\"denumire\"]:\n",
    "                print(\"Mai putin decat 10 la: {}\".format(materie))\n",
    "                \n",
    "                profesor = detalii_materie[\"profesor\"][\"nume\"]\n",
    "                print(\"Cu profesorul: {}\".format(profesor))\n",
    "                \n",
    "                tara_profesor = detalii_materie[\"profesor\"][\"tara\"]\n",
    "                if tara_profesor in examinare[\"tari vizitate\"]:\n",
    "                    vizitat = True\n",
    "                print(\"A vizitat tara profesorului: {}\".format(vizitat))"
   ]
  },
  {
   "cell_type": "code",
   "execution_count": 7,
   "metadata": {},
   "outputs": [],
   "source": [
    "examinare[\"tari vizitate\"].append('uz')"
   ]
  },
  {
   "cell_type": "code",
   "execution_count": 8,
   "metadata": {},
   "outputs": [
    {
     "name": "stdout",
     "output_type": "stream",
     "text": [
      "{'nnume': 'Ion', 'note': {'programare': 10, 'algoritmi': 9, 'structuri date': 10}, 'tari vizitate': ['ro', 'gb', 'de', 'fr', 'uz'], 'materii': [{'denumire': 'algoritmi', 'profesor': {'nume': 'Al-Khwarizmi', 'tara': 'uz'}, 'notiuni': ['cautare', 'optimizare', 'big O']}, {'denumire': 'programare', 'profesor': {'nume': 'Guido van Rossum', 'tara': 'nl'}, 'notiuni': ['kiss', 'dry']}, {'denumire': 'structuri date', 'profesor': {'nume': 'Turing', 'tara': 'gb'}, 'notiuni': ['lista', 'dicitonar', 'set', 'tuplu']}]}\n"
     ]
    }
   ],
   "source": [
    "print(examinare)"
   ]
  },
  {
   "cell_type": "code",
   "execution_count": null,
   "metadata": {},
   "outputs": [],
   "source": []
  }
 ],
 "metadata": {
  "kernelspec": {
   "display_name": "Python 3",
   "language": "python",
   "name": "python3"
  },
  "language_info": {
   "codemirror_mode": {
    "name": "ipython",
    "version": 3
   },
   "file_extension": ".py",
   "mimetype": "text/x-python",
   "name": "python",
   "nbconvert_exporter": "python",
   "pygments_lexer": "ipython3",
   "version": "3.8.3"
  }
 },
 "nbformat": 4,
 "nbformat_minor": 4
}
